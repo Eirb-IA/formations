{
 "cells": [
  {
   "cell_type": "markdown",
   "id": "d4bd7e07-9535-4625-80f1-18bfc4e5927e",
   "metadata": {},
   "source": [
    "Formation très inspirée de la vidéo de StatQuest sur les arbres de décision : \\\n",
    "https://www.youtube.com/watch?v=_L39rN6gz7Y"
   ]
  },
  {
   "cell_type": "code",
   "execution_count": 1,
   "id": "871f8d31-eb30-4d88-a029-2872f9b84bd9",
   "metadata": {},
   "outputs": [
    {
     "name": "stdout",
     "output_type": "stream",
     "text": [
      "[-1, 2, 7, -8, 3, 10, -2, 6, -14, -5, 5]\n",
      "['A', 'B', 'B', 'A', 'B', 'B', 'A', 'B', 'A', 'A', 'B']\n"
     ]
    }
   ],
   "source": [
    "import random\n",
    "\n",
    "\n",
    "# Nombres négatifs\n",
    "classA = [-1, -5, -2, -8, -14]\n",
    "# Nombres positifs\n",
    "classB = [3, 7, 2, 6, 5, 10]\n",
    "\n",
    "# Dataset mélangé\n",
    "total = classA + classB\n",
    "random.shuffle(total)\n",
    "\n",
    "possible_labels = ['A', 'B']\n",
    "labels = [possible_labels[0 if x in classA else 1] for x in total]\n",
    "print(total)\n",
    "print(labels)\n",
    "\n",
    "\n",
    "# Fit prend des tableaux 2d\n",
    "total = [ [x] for x in total ]\n",
    "label = [ [y] for y in labels ]"
   ]
  },
  {
   "cell_type": "code",
   "execution_count": 3,
   "id": "e88d2536-a483-4469-9a7f-52b944a957fd",
   "metadata": {
    "tags": []
   },
   "outputs": [
    {
     "name": "stdout",
     "output_type": "stream",
     "text": [
      "['A' 'A' 'B' 'B']\n",
      "Prediction pour -3 : Classe A\n",
      "Prediction pour -11 : Classe A\n",
      "Prediction pour 4 : Classe B\n",
      "Prediction pour 1 : Classe B\n"
     ]
    }
   ],
   "source": [
    "from sklearn.tree import DecisionTreeClassifier\n",
    "\n",
    "classifier = DecisionTreeClassifier()\n",
    "\n",
    "classifier.fit(total, labels)\n",
    "\n",
    "test = [[-3],\n",
    "        [-11],\n",
    "        [4],\n",
    "        [1]]\n",
    "# Expected : ['A', 'A', 'B', 'B']\n",
    "\n",
    "predictions = classifier.predict(test)\n",
    "print(predictions)\n",
    "for i in range(len(predictions)):\n",
    "    print(f'Prediction pour {test[i][0]} : Classe {predictions[i]}')"
   ]
  },
  {
   "cell_type": "code",
   "execution_count": null,
   "id": "0c0b0420-d675-435a-92bd-b9ca723ad946",
   "metadata": {},
   "outputs": [],
   "source": []
  }
 ],
 "metadata": {
  "kernelspec": {
   "display_name": "Python 3 (ipykernel)",
   "language": "python",
   "name": "python3"
  },
  "language_info": {
   "codemirror_mode": {
    "name": "ipython",
    "version": 3
   },
   "file_extension": ".py",
   "mimetype": "text/x-python",
   "name": "python",
   "nbconvert_exporter": "python",
   "pygments_lexer": "ipython3",
   "version": "3.10.7"
  }
 },
 "nbformat": 4,
 "nbformat_minor": 5
}
